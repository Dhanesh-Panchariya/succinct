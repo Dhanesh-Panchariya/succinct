{
 "cells": [
  {
   "cell_type": "code",
   "execution_count": 76,
   "id": "f3fa0cea",
   "metadata": {},
   "outputs": [],
   "source": [
    "import os\n",
    "import json\n",
    "import torch\n",
    "from pathlib import Path\n",
    "from dataclasses import dataclass\n",
    "from torch.utils.data import Dataset\n",
    "from transformers import AutoTokenizer\n",
    "from Succinct.logging import logger"
   ]
  },
  {
   "cell_type": "code",
   "execution_count": 79,
   "id": "b3593ef9",
   "metadata": {},
   "outputs": [],
   "source": [
    "os.chdir(\"/11/Projects/Succinct\")"
   ]
  },
  {
   "cell_type": "code",
   "execution_count": 81,
   "id": "bf031012",
   "metadata": {},
   "outputs": [
    {
     "data": {
      "text/plain": [
       "'c:\\\\11\\\\Projects\\\\Succinct'"
      ]
     },
     "execution_count": 81,
     "metadata": {},
     "output_type": "execute_result"
    }
   ],
   "source": [
    "%pwd"
   ]
  },
  {
   "cell_type": "code",
   "execution_count": 82,
   "id": "227b9ce0",
   "metadata": {},
   "outputs": [],
   "source": [
    "from dataclasses import dataclass\n",
    "from pathlib import Path\n",
    "\n",
    "@dataclass(frozen=True)\n",
    "class DataTransformationConfig:\n",
    "    root_dir: Path\n",
    "    data_path: Path\n",
    "    tokeniser_name: Path\n",
    "\n",
    "\n",
    "    "
   ]
  },
  {
   "cell_type": "code",
   "execution_count": 83,
   "id": "896daf51",
   "metadata": {},
   "outputs": [],
   "source": [
    "from Succinct.constants import *\n",
    "from Succinct.utils.common import read_yaml, create_directories"
   ]
  },
  {
   "cell_type": "code",
   "execution_count": 84,
   "id": "b1c6ef47",
   "metadata": {},
   "outputs": [],
   "source": [
    "class ConfigurationManager:\n",
    "    def __init__(\n",
    "        self,\n",
    "        config_filepath: Path = CONFIG_FILE_PATH,\n",
    "        params_filepath: Path = PARAMS_FILE_PATH,\n",
    "    ):\n",
    "        self.config = read_yaml(config_filepath)\n",
    "        self.params = read_yaml(params_filepath)\n",
    "        create_directories([self.config.artifacts_root])\n",
    "\n",
    "    def get_data_transformation_config(self) -> DataTransformationConfig:\n",
    "        config = self.config.data_transformation\n",
    "        create_directories([config.root_dir])\n",
    "\n",
    "        data_transformation_config = DataTransformationConfig(\n",
    "            root_dir=config.root_dir,\n",
    "            data_path=config.data_path,\n",
    "            tokeniser_name=config.tokeniser_name)\n",
    "        \n",
    "        return data_transformation_config\n"
   ]
  },
  {
   "cell_type": "code",
   "execution_count": 89,
   "id": "3560c91b",
   "metadata": {},
   "outputs": [],
   "source": [
    "import os\n",
    "from Succinct.logging import logger\n",
    "from transformers import AutoTokenizer\n"
   ]
  },
  {
   "cell_type": "code",
   "execution_count": null,
   "id": "a4edb8e9",
   "metadata": {},
   "outputs": [],
   "source": []
  },
  {
   "cell_type": "markdown",
   "id": "8402cdbb",
   "metadata": {},
   "source": [
    "##### Extra SummDataset Class for JSON conversion\n"
   ]
  },
  {
   "cell_type": "code",
   "execution_count": 92,
   "id": "92ff533d",
   "metadata": {},
   "outputs": [],
   "source": [
    "class SummDataset(Dataset):\n",
    "    def __init__(self, data, tokenizer, max_input_len=1024, max_output_len=128):\n",
    "        self.data = data\n",
    "        self.tokenizer = tokenizer\n",
    "        self.max_input_len = max_input_len\n",
    "        self.max_output_len = max_output_len\n",
    "\n",
    "    def __len__(self):\n",
    "        return len(self.data)\n",
    "\n",
    "    def __getitem__(self, idx):\n",
    "        example = self.data[idx]\n",
    "        inputs = self.tokenizer(\n",
    "            example[\"dialogue\"],\n",
    "            max_length=self.max_input_len,\n",
    "            padding=\"max_length\",\n",
    "            truncation=True,\n",
    "            return_tensors=\"pt\"\n",
    "        )\n",
    "        outputs = self.tokenizer(\n",
    "            example[\"summary\"],\n",
    "            max_length=self.max_output_len,\n",
    "            padding=\"max_length\",\n",
    "            truncation=True,\n",
    "            return_tensors=\"pt\"\n",
    "        )\n",
    "\n",
    "        return {\n",
    "            \"input_ids\": inputs.input_ids.squeeze(0),\n",
    "            \"attention_mask\": inputs.attention_mask.squeeze(0),\n",
    "            \"labels\": outputs.input_ids.squeeze(0)\n",
    "        }"
   ]
  },
  {
   "cell_type": "code",
   "execution_count": 93,
   "id": "97d9efba",
   "metadata": {},
   "outputs": [],
   "source": [
    "class DataTransformation:\n",
    "    def __init__(self, config: DataTransformationConfig):\n",
    "        self.config = config\n",
    "        self.tokenizer = AutoTokenizer.from_pretrained(self.config.tokeniser_name)\n",
    "\n",
    "    def load_data(self):\n",
    "        \"\"\"Load JSON dataset splits from the data path\"\"\"\n",
    "        data_path = self.config.data_path\n",
    "        datasets = {}\n",
    "        for split in [\"train\", \"val\", \"test\"]:\n",
    "            file_path = os.path.join(data_path, f\"{split}.json\")\n",
    "            if os.path.exists(file_path):\n",
    "                with open(file_path, \"r\", encoding=\"utf-8\") as f:\n",
    "                    datasets[split] = json.load(f)\n",
    "            else:\n",
    "                logger.warning(f\"{split}.json not found in {data_path}. Skipping this split.\")\n",
    "        return datasets\n",
    "\n",
    "    def convert(self):\n",
    "        \"\"\"Tokenize and convert datasets to PyTorch format, then save as .pt\"\"\"\n",
    "        datasets_dict = self.load_data()\n",
    "        datasets_pt = {\n",
    "            split: SummDataset(data, self.tokenizer)\n",
    "            for split, data in datasets_dict.items()\n",
    "        }\n",
    "\n",
    "        save_path = os.path.join(self.config.root_dir, \"samsum_dataset.pt\")\n",
    "        torch.save(datasets_pt, save_path)\n",
    "        logger.info(f\"Processed dataset saved to {save_path}\")\n",
    "\n",
    "        return datasets_pt"
   ]
  },
  {
   "cell_type": "code",
   "execution_count": 91,
   "id": "b336a2a4",
   "metadata": {},
   "outputs": [
    {
     "name": "stdout",
     "output_type": "stream",
     "text": [
      "[2025-09-26 14:33:01,886: INFO: common: yaml file config\\config.yaml loaded successfully]\n",
      "[2025-09-26 14:33:01,888: INFO: common: yaml file params.yaml loaded successfully]\n",
      "[2025-09-26 14:33:01,889: INFO: common: Created a directory: artifacts]\n",
      "[2025-09-26 14:33:01,890: INFO: common: Created a directory: artifacts/data_transformation]\n"
     ]
    },
    {
     "name": "stderr",
     "output_type": "stream",
     "text": [
      "c:\\11\\Projects\\succinct\\env\\Lib\\site-packages\\huggingface_hub\\file_download.py:945: FutureWarning: `resume_download` is deprecated and will be removed in version 1.0.0. Downloads always resume when possible. If you want to force a new download, use `force_download=True`.\n",
      "  warnings.warn(\n"
     ]
    },
    {
     "name": "stdout",
     "output_type": "stream",
     "text": [
      "[2025-09-26 14:33:05,436: WARNING: 2446992344: train.json not found in artifacts/data_ingestion/samsum_dataset. Skipping this split.]\n",
      "[2025-09-26 14:33:05,437: WARNING: 2446992344: val.json not found in artifacts/data_ingestion/samsum_dataset. Skipping this split.]\n",
      "[2025-09-26 14:33:05,438: WARNING: 2446992344: test.json not found in artifacts/data_ingestion/samsum_dataset. Skipping this split.]\n",
      "[2025-09-26 14:33:05,441: INFO: 2446992344: Processed dataset saved to artifacts/data_transformation\\samsum_dataset.pt]\n",
      "[2025-09-26 14:33:05,442: INFO: 2410692728: Data Transformation completed successfully.]\n"
     ]
    }
   ],
   "source": [
    "try:\n",
    "    config = ConfigurationManager()\n",
    "    data_transformation_config = config.get_data_transformation_config()\n",
    "    data_transformation = DataTransformation(config=data_transformation_config)\n",
    "    data_transformation.convert()\n",
    "    logger.info(\"Data Transformation completed successfully.\")\n",
    "except Exception as e:\n",
    "    raise e"
   ]
  },
  {
   "cell_type": "code",
   "execution_count": null,
   "id": "f7ea0e68",
   "metadata": {},
   "outputs": [],
   "source": []
  }
 ],
 "metadata": {
  "kernelspec": {
   "display_name": "env",
   "language": "python",
   "name": "python3"
  },
  "language_info": {
   "codemirror_mode": {
    "name": "ipython",
    "version": 3
   },
   "file_extension": ".py",
   "mimetype": "text/x-python",
   "name": "python",
   "nbconvert_exporter": "python",
   "pygments_lexer": "ipython3",
   "version": "3.11.9"
  }
 },
 "nbformat": 4,
 "nbformat_minor": 5
}
